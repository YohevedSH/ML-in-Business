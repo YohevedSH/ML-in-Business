{
 "cells": [
  {
   "cell_type": "markdown",
   "metadata": {},
   "source": [
    "# Machine learning in Business Project"
   ]
  },
  {
   "cell_type": "markdown",
   "metadata": {},
   "source": [
    "# Project description:\n",
    "\n",
    "You work for the OilyGiant mining company. Your task is to find the best place for a new well.\n"
   ]
  },
  {
   "cell_type": "markdown",
   "metadata": {},
   "source": [
    "# Project steps:\n",
    "\n",
    " **1. Download and prepare the data. Explain the procedure.**\n",
    " \n",
    " **2. Train and test the model for each region:**\n",
    " \n",
    "    - Split the data into a training set and validation set at a ratio of 75:25.\n",
    "    - Train the model and make predictions for the validation set.\n",
    "    - Save the predictions and correct answers for the validation set.\n",
    "    - Print the average volume of predicted reserves and model RMSE.\n",
    "    - Analyze the results.\n",
    "    \n",
    " **3. Prepare for profit calculation:**\n",
    " \n",
    "    - Store all key values for calculations in separate variables.\n",
    "    - Calculate the volume of reserves sufficient for developing a new well without losses. Compare the obtained value with the average volume of reserves in each region.\n",
    "    - Provide the findings about the preparation for profit calculation step.\n",
    "\n",
    " **4. Write a function to calculate profit from a set of selected oil wells and model predictions:**\n",
    " \n",
    "    - Pick the wells with the highest values of predictions.\n",
    "    - Summarize the target volume of reserves in accordance with these predictions\n",
    "    - Provide findings: suggest a region for oil wells' development and justify the choice. Calculate the profit for the obtained volume of reserves.\n",
    "    \n",
    " **5. Calculate risks and profit for each region:**\n",
    " \n",
    "    - Use the bootstrapping technique with 1000 samples to find the distribution of profit.\n",
    "    - Find average profit, 95% confidence interval and risk of losses. Loss is negative profit, calculate it as a probability and then express as a percentage.\n",
    "    - Provide findings: suggest a region for development of oil wells and justify the choice."
   ]
  },
  {
   "cell_type": "markdown",
   "metadata": {},
   "source": [
    "# Data description:\n",
    "\n",
    "**Geological exploration data for the three regions are stored in files:**\n",
    " - geo_data_0.csv\n",
    " - geo_data_1.csv\n",
    " - geo_data_2.csv\n",
    " - id — unique oil well identifier\n",
    " - f0, f1, f2 — three features of points (their specific meaning is unimportant, but the features themselves are significant)\n",
    " - product — volume of reserves in the oil well (thousand barrels).\n",
    "\n",
    "**Conditions:**\n",
    " - Only linear regression is suitable for model training (the rest are not sufficiently predictable).\n",
    " - When exploring the region, a study of 500 points is carried with picking the best 200 points for the profit calculation.\n",
    " - The budget for development of 200 oil wells is 100 USD million.\n",
    " - One barrel of raw materials brings 4.5 USD of revenue The revenue from one unit of product is 4,500 dollars (volume of reserves is in thousand barrels).\n",
    " - After the risk evaluation, keep only the regions with the risk of losses lower than 2.5%. From the ones that fit the criteria, the region with the highest average profit should be selected.\n",
    " \n",
    "The data is synthetic: contract details and well characteristics are not disclosed.\n"
   ]
  },
  {
   "cell_type": "code",
   "execution_count": 1,
   "metadata": {},
   "outputs": [],
   "source": [
    "#import all libraries\n",
    "import pandas as pd\n",
    "import numpy as np\n",
    "from matplotlib import pyplot as plt\n",
    "from sklearn.model_selection import train_test_split\n",
    "from sklearn.linear_model import LinearRegression\n",
    "from sklearn.metrics import mean_squared_error, r2_score"
   ]
  },
  {
   "cell_type": "markdown",
   "metadata": {},
   "source": [
    "## Download and prepare the data."
   ]
  },
  {
   "cell_type": "code",
   "execution_count": 16,
   "metadata": {},
   "outputs": [
    {
     "data": {
      "text/html": [
       "<div>\n",
       "<style scoped>\n",
       "    .dataframe tbody tr th:only-of-type {\n",
       "        vertical-align: middle;\n",
       "    }\n",
       "\n",
       "    .dataframe tbody tr th {\n",
       "        vertical-align: top;\n",
       "    }\n",
       "\n",
       "    .dataframe thead th {\n",
       "        text-align: right;\n",
       "    }\n",
       "</style>\n",
       "<table border=\"1\" class=\"dataframe\">\n",
       "  <thead>\n",
       "    <tr style=\"text-align: right;\">\n",
       "      <th></th>\n",
       "      <th>id</th>\n",
       "      <th>f0</th>\n",
       "      <th>f1</th>\n",
       "      <th>f2</th>\n",
       "      <th>product</th>\n",
       "    </tr>\n",
       "  </thead>\n",
       "  <tbody>\n",
       "    <tr>\n",
       "      <th>73950</th>\n",
       "      <td>pjA1T</td>\n",
       "      <td>-0.532809</td>\n",
       "      <td>0.940691</td>\n",
       "      <td>6.508783</td>\n",
       "      <td>127.133495</td>\n",
       "    </tr>\n",
       "    <tr>\n",
       "      <th>93877</th>\n",
       "      <td>tHaIF</td>\n",
       "      <td>1.595437</td>\n",
       "      <td>-0.168518</td>\n",
       "      <td>-4.041772</td>\n",
       "      <td>70.029854</td>\n",
       "    </tr>\n",
       "    <tr>\n",
       "      <th>65400</th>\n",
       "      <td>1hFCn</td>\n",
       "      <td>1.721884</td>\n",
       "      <td>-0.178856</td>\n",
       "      <td>4.506551</td>\n",
       "      <td>148.006562</td>\n",
       "    </tr>\n",
       "    <tr>\n",
       "      <th>97436</th>\n",
       "      <td>8ngRx</td>\n",
       "      <td>1.742858</td>\n",
       "      <td>-0.083408</td>\n",
       "      <td>2.904152</td>\n",
       "      <td>125.056271</td>\n",
       "    </tr>\n",
       "    <tr>\n",
       "      <th>42377</th>\n",
       "      <td>xrgzu</td>\n",
       "      <td>1.189263</td>\n",
       "      <td>-0.433491</td>\n",
       "      <td>0.205810</td>\n",
       "      <td>71.551038</td>\n",
       "    </tr>\n",
       "    <tr>\n",
       "      <th>45309</th>\n",
       "      <td>rPb84</td>\n",
       "      <td>-0.959980</td>\n",
       "      <td>0.719113</td>\n",
       "      <td>4.031168</td>\n",
       "      <td>30.250799</td>\n",
       "    </tr>\n",
       "    <tr>\n",
       "      <th>75776</th>\n",
       "      <td>Nvbjy</td>\n",
       "      <td>1.479175</td>\n",
       "      <td>-0.377978</td>\n",
       "      <td>6.995011</td>\n",
       "      <td>162.564594</td>\n",
       "    </tr>\n",
       "    <tr>\n",
       "      <th>75181</th>\n",
       "      <td>dcnYC</td>\n",
       "      <td>-0.070261</td>\n",
       "      <td>0.356007</td>\n",
       "      <td>-5.787352</td>\n",
       "      <td>55.220707</td>\n",
       "    </tr>\n",
       "    <tr>\n",
       "      <th>87096</th>\n",
       "      <td>lJdWO</td>\n",
       "      <td>1.178380</td>\n",
       "      <td>0.128460</td>\n",
       "      <td>2.625890</td>\n",
       "      <td>140.925917</td>\n",
       "    </tr>\n",
       "    <tr>\n",
       "      <th>16616</th>\n",
       "      <td>L26Fa</td>\n",
       "      <td>0.073766</td>\n",
       "      <td>1.198702</td>\n",
       "      <td>7.409773</td>\n",
       "      <td>142.800529</td>\n",
       "    </tr>\n",
       "  </tbody>\n",
       "</table>\n",
       "</div>"
      ],
      "text/plain": [
       "          id        f0        f1        f2     product\n",
       "73950  pjA1T -0.532809  0.940691  6.508783  127.133495\n",
       "93877  tHaIF  1.595437 -0.168518 -4.041772   70.029854\n",
       "65400  1hFCn  1.721884 -0.178856  4.506551  148.006562\n",
       "97436  8ngRx  1.742858 -0.083408  2.904152  125.056271\n",
       "42377  xrgzu  1.189263 -0.433491  0.205810   71.551038\n",
       "45309  rPb84 -0.959980  0.719113  4.031168   30.250799\n",
       "75776  Nvbjy  1.479175 -0.377978  6.995011  162.564594\n",
       "75181  dcnYC -0.070261  0.356007 -5.787352   55.220707\n",
       "87096  lJdWO  1.178380  0.128460  2.625890  140.925917\n",
       "16616  L26Fa  0.073766  1.198702  7.409773  142.800529"
      ]
     },
     "execution_count": 16,
     "metadata": {},
     "output_type": "execute_result"
    }
   ],
   "source": [
    "try:\n",
    "    df1 = pd.read_csv('/Users/yoheved/Desktop/Study/geo_data_0.csv')\n",
    "except:\n",
    "    df1 = pd.read_csv('/datasets/geo_data_0.csv')\n",
    "df1.sample(10)"
   ]
  },
  {
   "cell_type": "code",
   "execution_count": 17,
   "metadata": {},
   "outputs": [
    {
     "name": "stdout",
     "output_type": "stream",
     "text": [
      "<class 'pandas.core.frame.DataFrame'>\n",
      "RangeIndex: 100000 entries, 0 to 99999\n",
      "Data columns (total 5 columns):\n",
      " #   Column   Non-Null Count   Dtype  \n",
      "---  ------   --------------   -----  \n",
      " 0   id       100000 non-null  object \n",
      " 1   f0       100000 non-null  float64\n",
      " 2   f1       100000 non-null  float64\n",
      " 3   f2       100000 non-null  float64\n",
      " 4   product  100000 non-null  float64\n",
      "dtypes: float64(4), object(1)\n",
      "memory usage: 3.8+ MB\n"
     ]
    }
   ],
   "source": [
    "df1.info()"
   ]
  },
  {
   "cell_type": "code",
   "execution_count": 18,
   "metadata": {},
   "outputs": [
    {
     "data": {
      "text/html": [
       "<div>\n",
       "<style scoped>\n",
       "    .dataframe tbody tr th:only-of-type {\n",
       "        vertical-align: middle;\n",
       "    }\n",
       "\n",
       "    .dataframe tbody tr th {\n",
       "        vertical-align: top;\n",
       "    }\n",
       "\n",
       "    .dataframe thead th {\n",
       "        text-align: right;\n",
       "    }\n",
       "</style>\n",
       "<table border=\"1\" class=\"dataframe\">\n",
       "  <thead>\n",
       "    <tr style=\"text-align: right;\">\n",
       "      <th></th>\n",
       "      <th>id</th>\n",
       "      <th>f0</th>\n",
       "      <th>f1</th>\n",
       "      <th>f2</th>\n",
       "      <th>product</th>\n",
       "    </tr>\n",
       "  </thead>\n",
       "  <tbody>\n",
       "    <tr>\n",
       "      <th>10175</th>\n",
       "      <td>Baoip</td>\n",
       "      <td>-9.658875</td>\n",
       "      <td>-10.215423</td>\n",
       "      <td>5.006531</td>\n",
       "      <td>137.945408</td>\n",
       "    </tr>\n",
       "    <tr>\n",
       "      <th>35851</th>\n",
       "      <td>iZkAJ</td>\n",
       "      <td>-5.943884</td>\n",
       "      <td>-0.919345</td>\n",
       "      <td>1.002481</td>\n",
       "      <td>30.132364</td>\n",
       "    </tr>\n",
       "    <tr>\n",
       "      <th>53836</th>\n",
       "      <td>csQIB</td>\n",
       "      <td>-8.572480</td>\n",
       "      <td>-8.180091</td>\n",
       "      <td>0.993002</td>\n",
       "      <td>30.132364</td>\n",
       "    </tr>\n",
       "    <tr>\n",
       "      <th>39860</th>\n",
       "      <td>E8u9S</td>\n",
       "      <td>7.942830</td>\n",
       "      <td>-0.870855</td>\n",
       "      <td>3.994422</td>\n",
       "      <td>107.813044</td>\n",
       "    </tr>\n",
       "    <tr>\n",
       "      <th>12361</th>\n",
       "      <td>NC7GY</td>\n",
       "      <td>-2.849126</td>\n",
       "      <td>-7.813312</td>\n",
       "      <td>3.003325</td>\n",
       "      <td>84.038886</td>\n",
       "    </tr>\n",
       "    <tr>\n",
       "      <th>37223</th>\n",
       "      <td>fwfG7</td>\n",
       "      <td>-6.315590</td>\n",
       "      <td>-12.077400</td>\n",
       "      <td>3.000013</td>\n",
       "      <td>84.038886</td>\n",
       "    </tr>\n",
       "    <tr>\n",
       "      <th>66293</th>\n",
       "      <td>wqety</td>\n",
       "      <td>1.787336</td>\n",
       "      <td>-1.251825</td>\n",
       "      <td>0.996989</td>\n",
       "      <td>26.953261</td>\n",
       "    </tr>\n",
       "    <tr>\n",
       "      <th>5705</th>\n",
       "      <td>9TQQQ</td>\n",
       "      <td>2.945842</td>\n",
       "      <td>-3.537750</td>\n",
       "      <td>2.996684</td>\n",
       "      <td>80.859783</td>\n",
       "    </tr>\n",
       "    <tr>\n",
       "      <th>12717</th>\n",
       "      <td>sK5rh</td>\n",
       "      <td>-8.410406</td>\n",
       "      <td>-1.404759</td>\n",
       "      <td>4.004005</td>\n",
       "      <td>110.992147</td>\n",
       "    </tr>\n",
       "    <tr>\n",
       "      <th>87969</th>\n",
       "      <td>NeyDp</td>\n",
       "      <td>-13.009008</td>\n",
       "      <td>-1.904032</td>\n",
       "      <td>4.005617</td>\n",
       "      <td>110.992147</td>\n",
       "    </tr>\n",
       "  </tbody>\n",
       "</table>\n",
       "</div>"
      ],
      "text/plain": [
       "          id         f0         f1        f2     product\n",
       "10175  Baoip  -9.658875 -10.215423  5.006531  137.945408\n",
       "35851  iZkAJ  -5.943884  -0.919345  1.002481   30.132364\n",
       "53836  csQIB  -8.572480  -8.180091  0.993002   30.132364\n",
       "39860  E8u9S   7.942830  -0.870855  3.994422  107.813044\n",
       "12361  NC7GY  -2.849126  -7.813312  3.003325   84.038886\n",
       "37223  fwfG7  -6.315590 -12.077400  3.000013   84.038886\n",
       "66293  wqety   1.787336  -1.251825  0.996989   26.953261\n",
       "5705   9TQQQ   2.945842  -3.537750  2.996684   80.859783\n",
       "12717  sK5rh  -8.410406  -1.404759  4.004005  110.992147\n",
       "87969  NeyDp -13.009008  -1.904032  4.005617  110.992147"
      ]
     },
     "execution_count": 18,
     "metadata": {},
     "output_type": "execute_result"
    }
   ],
   "source": [
    "try:\n",
    "    df2 = pd.read_csv('/Users/yoheved/Desktop/Study/geo_data_1.csv')\n",
    "except:\n",
    "    df2 = pd.read_csv('/datasets/geo_data_1.csv')\n",
    "df2.sample(10)"
   ]
  },
  {
   "cell_type": "code",
   "execution_count": 19,
   "metadata": {},
   "outputs": [
    {
     "name": "stdout",
     "output_type": "stream",
     "text": [
      "<class 'pandas.core.frame.DataFrame'>\n",
      "RangeIndex: 100000 entries, 0 to 99999\n",
      "Data columns (total 5 columns):\n",
      " #   Column   Non-Null Count   Dtype  \n",
      "---  ------   --------------   -----  \n",
      " 0   id       100000 non-null  object \n",
      " 1   f0       100000 non-null  float64\n",
      " 2   f1       100000 non-null  float64\n",
      " 3   f2       100000 non-null  float64\n",
      " 4   product  100000 non-null  float64\n",
      "dtypes: float64(4), object(1)\n",
      "memory usage: 3.8+ MB\n"
     ]
    }
   ],
   "source": [
    "df2.info()"
   ]
  },
  {
   "cell_type": "code",
   "execution_count": 20,
   "metadata": {},
   "outputs": [
    {
     "data": {
      "text/html": [
       "<div>\n",
       "<style scoped>\n",
       "    .dataframe tbody tr th:only-of-type {\n",
       "        vertical-align: middle;\n",
       "    }\n",
       "\n",
       "    .dataframe tbody tr th {\n",
       "        vertical-align: top;\n",
       "    }\n",
       "\n",
       "    .dataframe thead th {\n",
       "        text-align: right;\n",
       "    }\n",
       "</style>\n",
       "<table border=\"1\" class=\"dataframe\">\n",
       "  <thead>\n",
       "    <tr style=\"text-align: right;\">\n",
       "      <th></th>\n",
       "      <th>id</th>\n",
       "      <th>f0</th>\n",
       "      <th>f1</th>\n",
       "      <th>f2</th>\n",
       "      <th>product</th>\n",
       "    </tr>\n",
       "  </thead>\n",
       "  <tbody>\n",
       "    <tr>\n",
       "      <th>50766</th>\n",
       "      <td>0BOZ8</td>\n",
       "      <td>-0.476986</td>\n",
       "      <td>2.295739</td>\n",
       "      <td>-4.704936</td>\n",
       "      <td>76.699779</td>\n",
       "    </tr>\n",
       "    <tr>\n",
       "      <th>54815</th>\n",
       "      <td>Ar3Vg</td>\n",
       "      <td>-0.980551</td>\n",
       "      <td>0.519616</td>\n",
       "      <td>4.702160</td>\n",
       "      <td>99.480258</td>\n",
       "    </tr>\n",
       "    <tr>\n",
       "      <th>40710</th>\n",
       "      <td>YivMK</td>\n",
       "      <td>0.470621</td>\n",
       "      <td>2.749163</td>\n",
       "      <td>2.002154</td>\n",
       "      <td>79.452895</td>\n",
       "    </tr>\n",
       "    <tr>\n",
       "      <th>62270</th>\n",
       "      <td>TDloA</td>\n",
       "      <td>-1.723049</td>\n",
       "      <td>0.256970</td>\n",
       "      <td>1.443675</td>\n",
       "      <td>132.929548</td>\n",
       "    </tr>\n",
       "    <tr>\n",
       "      <th>50446</th>\n",
       "      <td>wyGzm</td>\n",
       "      <td>0.455312</td>\n",
       "      <td>2.099135</td>\n",
       "      <td>2.192939</td>\n",
       "      <td>122.704555</td>\n",
       "    </tr>\n",
       "    <tr>\n",
       "      <th>56510</th>\n",
       "      <td>Q0Lqp</td>\n",
       "      <td>1.243237</td>\n",
       "      <td>0.543882</td>\n",
       "      <td>1.792365</td>\n",
       "      <td>4.294230</td>\n",
       "    </tr>\n",
       "    <tr>\n",
       "      <th>709</th>\n",
       "      <td>rHmcs</td>\n",
       "      <td>0.314911</td>\n",
       "      <td>-0.258442</td>\n",
       "      <td>-8.831853</td>\n",
       "      <td>5.032557</td>\n",
       "    </tr>\n",
       "    <tr>\n",
       "      <th>49784</th>\n",
       "      <td>3meJD</td>\n",
       "      <td>-3.513360</td>\n",
       "      <td>0.800935</td>\n",
       "      <td>3.066761</td>\n",
       "      <td>145.667708</td>\n",
       "    </tr>\n",
       "    <tr>\n",
       "      <th>25011</th>\n",
       "      <td>qilUX</td>\n",
       "      <td>-1.277926</td>\n",
       "      <td>-0.517655</td>\n",
       "      <td>6.601103</td>\n",
       "      <td>151.978594</td>\n",
       "    </tr>\n",
       "    <tr>\n",
       "      <th>7570</th>\n",
       "      <td>aKbAz</td>\n",
       "      <td>0.783507</td>\n",
       "      <td>0.767527</td>\n",
       "      <td>3.958192</td>\n",
       "      <td>139.121726</td>\n",
       "    </tr>\n",
       "  </tbody>\n",
       "</table>\n",
       "</div>"
      ],
      "text/plain": [
       "          id        f0        f1        f2     product\n",
       "50766  0BOZ8 -0.476986  2.295739 -4.704936   76.699779\n",
       "54815  Ar3Vg -0.980551  0.519616  4.702160   99.480258\n",
       "40710  YivMK  0.470621  2.749163  2.002154   79.452895\n",
       "62270  TDloA -1.723049  0.256970  1.443675  132.929548\n",
       "50446  wyGzm  0.455312  2.099135  2.192939  122.704555\n",
       "56510  Q0Lqp  1.243237  0.543882  1.792365    4.294230\n",
       "709    rHmcs  0.314911 -0.258442 -8.831853    5.032557\n",
       "49784  3meJD -3.513360  0.800935  3.066761  145.667708\n",
       "25011  qilUX -1.277926 -0.517655  6.601103  151.978594\n",
       "7570   aKbAz  0.783507  0.767527  3.958192  139.121726"
      ]
     },
     "execution_count": 20,
     "metadata": {},
     "output_type": "execute_result"
    }
   ],
   "source": [
    "try:\n",
    "    df3 = pd.read_csv('/Users/yoheved/Desktop/Study/geo_data_2.csv')\n",
    "except:\n",
    "    df3 = pd.read_csv('/datasets/geo_data_2.csv')\n",
    "df3.sample(10)"
   ]
  },
  {
   "cell_type": "code",
   "execution_count": 21,
   "metadata": {},
   "outputs": [
    {
     "name": "stdout",
     "output_type": "stream",
     "text": [
      "<class 'pandas.core.frame.DataFrame'>\n",
      "RangeIndex: 100000 entries, 0 to 99999\n",
      "Data columns (total 5 columns):\n",
      " #   Column   Non-Null Count   Dtype  \n",
      "---  ------   --------------   -----  \n",
      " 0   id       100000 non-null  object \n",
      " 1   f0       100000 non-null  float64\n",
      " 2   f1       100000 non-null  float64\n",
      " 3   f2       100000 non-null  float64\n",
      " 4   product  100000 non-null  float64\n",
      "dtypes: float64(4), object(1)\n",
      "memory usage: 3.8+ MB\n"
     ]
    }
   ],
   "source": [
    "df3.info()"
   ]
  },
  {
   "cell_type": "code",
   "execution_count": 22,
   "metadata": {},
   "outputs": [
    {
     "data": {
      "text/html": [
       "<div>\n",
       "<style scoped>\n",
       "    .dataframe tbody tr th:only-of-type {\n",
       "        vertical-align: middle;\n",
       "    }\n",
       "\n",
       "    .dataframe tbody tr th {\n",
       "        vertical-align: top;\n",
       "    }\n",
       "\n",
       "    .dataframe thead th {\n",
       "        text-align: right;\n",
       "    }\n",
       "</style>\n",
       "<table border=\"1\" class=\"dataframe\">\n",
       "  <thead>\n",
       "    <tr style=\"text-align: right;\">\n",
       "      <th></th>\n",
       "      <th>f0</th>\n",
       "      <th>f1</th>\n",
       "      <th>f2</th>\n",
       "      <th>product</th>\n",
       "    </tr>\n",
       "  </thead>\n",
       "  <tbody>\n",
       "    <tr>\n",
       "      <th>count</th>\n",
       "      <td>100000.000000</td>\n",
       "      <td>100000.000000</td>\n",
       "      <td>100000.000000</td>\n",
       "      <td>100000.000000</td>\n",
       "    </tr>\n",
       "    <tr>\n",
       "      <th>mean</th>\n",
       "      <td>0.500419</td>\n",
       "      <td>0.250143</td>\n",
       "      <td>2.502647</td>\n",
       "      <td>92.500000</td>\n",
       "    </tr>\n",
       "    <tr>\n",
       "      <th>std</th>\n",
       "      <td>0.871832</td>\n",
       "      <td>0.504433</td>\n",
       "      <td>3.248248</td>\n",
       "      <td>44.288691</td>\n",
       "    </tr>\n",
       "    <tr>\n",
       "      <th>min</th>\n",
       "      <td>-1.408605</td>\n",
       "      <td>-0.848218</td>\n",
       "      <td>-12.088328</td>\n",
       "      <td>0.000000</td>\n",
       "    </tr>\n",
       "    <tr>\n",
       "      <th>25%</th>\n",
       "      <td>-0.072580</td>\n",
       "      <td>-0.200881</td>\n",
       "      <td>0.287748</td>\n",
       "      <td>56.497507</td>\n",
       "    </tr>\n",
       "    <tr>\n",
       "      <th>50%</th>\n",
       "      <td>0.502360</td>\n",
       "      <td>0.250252</td>\n",
       "      <td>2.515969</td>\n",
       "      <td>91.849972</td>\n",
       "    </tr>\n",
       "    <tr>\n",
       "      <th>75%</th>\n",
       "      <td>1.073581</td>\n",
       "      <td>0.700646</td>\n",
       "      <td>4.715088</td>\n",
       "      <td>128.564089</td>\n",
       "    </tr>\n",
       "    <tr>\n",
       "      <th>max</th>\n",
       "      <td>2.362331</td>\n",
       "      <td>1.343769</td>\n",
       "      <td>16.003790</td>\n",
       "      <td>185.364347</td>\n",
       "    </tr>\n",
       "  </tbody>\n",
       "</table>\n",
       "</div>"
      ],
      "text/plain": [
       "                  f0             f1             f2        product\n",
       "count  100000.000000  100000.000000  100000.000000  100000.000000\n",
       "mean        0.500419       0.250143       2.502647      92.500000\n",
       "std         0.871832       0.504433       3.248248      44.288691\n",
       "min        -1.408605      -0.848218     -12.088328       0.000000\n",
       "25%        -0.072580      -0.200881       0.287748      56.497507\n",
       "50%         0.502360       0.250252       2.515969      91.849972\n",
       "75%         1.073581       0.700646       4.715088     128.564089\n",
       "max         2.362331       1.343769      16.003790     185.364347"
      ]
     },
     "execution_count": 22,
     "metadata": {},
     "output_type": "execute_result"
    }
   ],
   "source": [
    "df1.describe()"
   ]
  },
  {
   "cell_type": "code",
   "execution_count": 23,
   "metadata": {},
   "outputs": [
    {
     "data": {
      "text/html": [
       "<div>\n",
       "<style scoped>\n",
       "    .dataframe tbody tr th:only-of-type {\n",
       "        vertical-align: middle;\n",
       "    }\n",
       "\n",
       "    .dataframe tbody tr th {\n",
       "        vertical-align: top;\n",
       "    }\n",
       "\n",
       "    .dataframe thead th {\n",
       "        text-align: right;\n",
       "    }\n",
       "</style>\n",
       "<table border=\"1\" class=\"dataframe\">\n",
       "  <thead>\n",
       "    <tr style=\"text-align: right;\">\n",
       "      <th></th>\n",
       "      <th>f0</th>\n",
       "      <th>f1</th>\n",
       "      <th>f2</th>\n",
       "      <th>product</th>\n",
       "    </tr>\n",
       "  </thead>\n",
       "  <tbody>\n",
       "    <tr>\n",
       "      <th>count</th>\n",
       "      <td>100000.000000</td>\n",
       "      <td>100000.000000</td>\n",
       "      <td>100000.000000</td>\n",
       "      <td>100000.000000</td>\n",
       "    </tr>\n",
       "    <tr>\n",
       "      <th>mean</th>\n",
       "      <td>1.141296</td>\n",
       "      <td>-4.796579</td>\n",
       "      <td>2.494541</td>\n",
       "      <td>68.825000</td>\n",
       "    </tr>\n",
       "    <tr>\n",
       "      <th>std</th>\n",
       "      <td>8.965932</td>\n",
       "      <td>5.119872</td>\n",
       "      <td>1.703572</td>\n",
       "      <td>45.944423</td>\n",
       "    </tr>\n",
       "    <tr>\n",
       "      <th>min</th>\n",
       "      <td>-31.609576</td>\n",
       "      <td>-26.358598</td>\n",
       "      <td>-0.018144</td>\n",
       "      <td>0.000000</td>\n",
       "    </tr>\n",
       "    <tr>\n",
       "      <th>25%</th>\n",
       "      <td>-6.298551</td>\n",
       "      <td>-8.267985</td>\n",
       "      <td>1.000021</td>\n",
       "      <td>26.953261</td>\n",
       "    </tr>\n",
       "    <tr>\n",
       "      <th>50%</th>\n",
       "      <td>1.153055</td>\n",
       "      <td>-4.813172</td>\n",
       "      <td>2.011479</td>\n",
       "      <td>57.085625</td>\n",
       "    </tr>\n",
       "    <tr>\n",
       "      <th>75%</th>\n",
       "      <td>8.621015</td>\n",
       "      <td>-1.332816</td>\n",
       "      <td>3.999904</td>\n",
       "      <td>107.813044</td>\n",
       "    </tr>\n",
       "    <tr>\n",
       "      <th>max</th>\n",
       "      <td>29.421755</td>\n",
       "      <td>18.734063</td>\n",
       "      <td>5.019721</td>\n",
       "      <td>137.945408</td>\n",
       "    </tr>\n",
       "  </tbody>\n",
       "</table>\n",
       "</div>"
      ],
      "text/plain": [
       "                  f0             f1             f2        product\n",
       "count  100000.000000  100000.000000  100000.000000  100000.000000\n",
       "mean        1.141296      -4.796579       2.494541      68.825000\n",
       "std         8.965932       5.119872       1.703572      45.944423\n",
       "min       -31.609576     -26.358598      -0.018144       0.000000\n",
       "25%        -6.298551      -8.267985       1.000021      26.953261\n",
       "50%         1.153055      -4.813172       2.011479      57.085625\n",
       "75%         8.621015      -1.332816       3.999904     107.813044\n",
       "max        29.421755      18.734063       5.019721     137.945408"
      ]
     },
     "execution_count": 23,
     "metadata": {},
     "output_type": "execute_result"
    }
   ],
   "source": [
    "df2.describe()"
   ]
  },
  {
   "cell_type": "code",
   "execution_count": 24,
   "metadata": {},
   "outputs": [
    {
     "data": {
      "text/html": [
       "<div>\n",
       "<style scoped>\n",
       "    .dataframe tbody tr th:only-of-type {\n",
       "        vertical-align: middle;\n",
       "    }\n",
       "\n",
       "    .dataframe tbody tr th {\n",
       "        vertical-align: top;\n",
       "    }\n",
       "\n",
       "    .dataframe thead th {\n",
       "        text-align: right;\n",
       "    }\n",
       "</style>\n",
       "<table border=\"1\" class=\"dataframe\">\n",
       "  <thead>\n",
       "    <tr style=\"text-align: right;\">\n",
       "      <th></th>\n",
       "      <th>f0</th>\n",
       "      <th>f1</th>\n",
       "      <th>f2</th>\n",
       "      <th>product</th>\n",
       "    </tr>\n",
       "  </thead>\n",
       "  <tbody>\n",
       "    <tr>\n",
       "      <th>count</th>\n",
       "      <td>100000.000000</td>\n",
       "      <td>100000.000000</td>\n",
       "      <td>100000.000000</td>\n",
       "      <td>100000.000000</td>\n",
       "    </tr>\n",
       "    <tr>\n",
       "      <th>mean</th>\n",
       "      <td>0.002023</td>\n",
       "      <td>-0.002081</td>\n",
       "      <td>2.495128</td>\n",
       "      <td>95.000000</td>\n",
       "    </tr>\n",
       "    <tr>\n",
       "      <th>std</th>\n",
       "      <td>1.732045</td>\n",
       "      <td>1.730417</td>\n",
       "      <td>3.473445</td>\n",
       "      <td>44.749921</td>\n",
       "    </tr>\n",
       "    <tr>\n",
       "      <th>min</th>\n",
       "      <td>-8.760004</td>\n",
       "      <td>-7.084020</td>\n",
       "      <td>-11.970335</td>\n",
       "      <td>0.000000</td>\n",
       "    </tr>\n",
       "    <tr>\n",
       "      <th>25%</th>\n",
       "      <td>-1.162288</td>\n",
       "      <td>-1.174820</td>\n",
       "      <td>0.130359</td>\n",
       "      <td>59.450441</td>\n",
       "    </tr>\n",
       "    <tr>\n",
       "      <th>50%</th>\n",
       "      <td>0.009424</td>\n",
       "      <td>-0.009482</td>\n",
       "      <td>2.484236</td>\n",
       "      <td>94.925613</td>\n",
       "    </tr>\n",
       "    <tr>\n",
       "      <th>75%</th>\n",
       "      <td>1.158535</td>\n",
       "      <td>1.163678</td>\n",
       "      <td>4.858794</td>\n",
       "      <td>130.595027</td>\n",
       "    </tr>\n",
       "    <tr>\n",
       "      <th>max</th>\n",
       "      <td>7.238262</td>\n",
       "      <td>7.844801</td>\n",
       "      <td>16.739402</td>\n",
       "      <td>190.029838</td>\n",
       "    </tr>\n",
       "  </tbody>\n",
       "</table>\n",
       "</div>"
      ],
      "text/plain": [
       "                  f0             f1             f2        product\n",
       "count  100000.000000  100000.000000  100000.000000  100000.000000\n",
       "mean        0.002023      -0.002081       2.495128      95.000000\n",
       "std         1.732045       1.730417       3.473445      44.749921\n",
       "min        -8.760004      -7.084020     -11.970335       0.000000\n",
       "25%        -1.162288      -1.174820       0.130359      59.450441\n",
       "50%         0.009424      -0.009482       2.484236      94.925613\n",
       "75%         1.158535       1.163678       4.858794     130.595027\n",
       "max         7.238262       7.844801      16.739402     190.029838"
      ]
     },
     "execution_count": 24,
     "metadata": {},
     "output_type": "execute_result"
    }
   ],
   "source": [
    "df3.describe()"
   ]
  },
  {
   "cell_type": "code",
   "execution_count": 26,
   "metadata": {},
   "outputs": [
    {
     "data": {
      "text/html": [
       "<div>\n",
       "<style scoped>\n",
       "    .dataframe tbody tr th:only-of-type {\n",
       "        vertical-align: middle;\n",
       "    }\n",
       "\n",
       "    .dataframe tbody tr th {\n",
       "        vertical-align: top;\n",
       "    }\n",
       "\n",
       "    .dataframe thead th {\n",
       "        text-align: right;\n",
       "    }\n",
       "</style>\n",
       "<table border=\"1\" class=\"dataframe\">\n",
       "  <thead>\n",
       "    <tr style=\"text-align: right;\">\n",
       "      <th></th>\n",
       "      <th>f0</th>\n",
       "      <th>f1</th>\n",
       "      <th>f2</th>\n",
       "      <th>product</th>\n",
       "    </tr>\n",
       "  </thead>\n",
       "  <tbody>\n",
       "    <tr>\n",
       "      <th>f0</th>\n",
       "      <td>1.000000</td>\n",
       "      <td>-0.440723</td>\n",
       "      <td>-0.003153</td>\n",
       "      <td>0.143536</td>\n",
       "    </tr>\n",
       "    <tr>\n",
       "      <th>f1</th>\n",
       "      <td>-0.440723</td>\n",
       "      <td>1.000000</td>\n",
       "      <td>0.001724</td>\n",
       "      <td>-0.192356</td>\n",
       "    </tr>\n",
       "    <tr>\n",
       "      <th>f2</th>\n",
       "      <td>-0.003153</td>\n",
       "      <td>0.001724</td>\n",
       "      <td>1.000000</td>\n",
       "      <td>0.483663</td>\n",
       "    </tr>\n",
       "    <tr>\n",
       "      <th>product</th>\n",
       "      <td>0.143536</td>\n",
       "      <td>-0.192356</td>\n",
       "      <td>0.483663</td>\n",
       "      <td>1.000000</td>\n",
       "    </tr>\n",
       "  </tbody>\n",
       "</table>\n",
       "</div>"
      ],
      "text/plain": [
       "               f0        f1        f2   product\n",
       "f0       1.000000 -0.440723 -0.003153  0.143536\n",
       "f1      -0.440723  1.000000  0.001724 -0.192356\n",
       "f2      -0.003153  0.001724  1.000000  0.483663\n",
       "product  0.143536 -0.192356  0.483663  1.000000"
      ]
     },
     "execution_count": 26,
     "metadata": {},
     "output_type": "execute_result"
    }
   ],
   "source": [
    "df1.corr()    "
   ]
  },
  {
   "cell_type": "code",
   "execution_count": 27,
   "metadata": {},
   "outputs": [
    {
     "data": {
      "text/html": [
       "<div>\n",
       "<style scoped>\n",
       "    .dataframe tbody tr th:only-of-type {\n",
       "        vertical-align: middle;\n",
       "    }\n",
       "\n",
       "    .dataframe tbody tr th {\n",
       "        vertical-align: top;\n",
       "    }\n",
       "\n",
       "    .dataframe thead th {\n",
       "        text-align: right;\n",
       "    }\n",
       "</style>\n",
       "<table border=\"1\" class=\"dataframe\">\n",
       "  <thead>\n",
       "    <tr style=\"text-align: right;\">\n",
       "      <th></th>\n",
       "      <th>f0</th>\n",
       "      <th>f1</th>\n",
       "      <th>f2</th>\n",
       "      <th>product</th>\n",
       "    </tr>\n",
       "  </thead>\n",
       "  <tbody>\n",
       "    <tr>\n",
       "      <th>f0</th>\n",
       "      <td>1.000000</td>\n",
       "      <td>0.182287</td>\n",
       "      <td>-0.001777</td>\n",
       "      <td>-0.030491</td>\n",
       "    </tr>\n",
       "    <tr>\n",
       "      <th>f1</th>\n",
       "      <td>0.182287</td>\n",
       "      <td>1.000000</td>\n",
       "      <td>-0.002595</td>\n",
       "      <td>-0.010155</td>\n",
       "    </tr>\n",
       "    <tr>\n",
       "      <th>f2</th>\n",
       "      <td>-0.001777</td>\n",
       "      <td>-0.002595</td>\n",
       "      <td>1.000000</td>\n",
       "      <td>0.999397</td>\n",
       "    </tr>\n",
       "    <tr>\n",
       "      <th>product</th>\n",
       "      <td>-0.030491</td>\n",
       "      <td>-0.010155</td>\n",
       "      <td>0.999397</td>\n",
       "      <td>1.000000</td>\n",
       "    </tr>\n",
       "  </tbody>\n",
       "</table>\n",
       "</div>"
      ],
      "text/plain": [
       "               f0        f1        f2   product\n",
       "f0       1.000000  0.182287 -0.001777 -0.030491\n",
       "f1       0.182287  1.000000 -0.002595 -0.010155\n",
       "f2      -0.001777 -0.002595  1.000000  0.999397\n",
       "product -0.030491 -0.010155  0.999397  1.000000"
      ]
     },
     "execution_count": 27,
     "metadata": {},
     "output_type": "execute_result"
    }
   ],
   "source": [
    "df2.corr()"
   ]
  },
  {
   "cell_type": "code",
   "execution_count": 28,
   "metadata": {},
   "outputs": [
    {
     "data": {
      "text/html": [
       "<div>\n",
       "<style scoped>\n",
       "    .dataframe tbody tr th:only-of-type {\n",
       "        vertical-align: middle;\n",
       "    }\n",
       "\n",
       "    .dataframe tbody tr th {\n",
       "        vertical-align: top;\n",
       "    }\n",
       "\n",
       "    .dataframe thead th {\n",
       "        text-align: right;\n",
       "    }\n",
       "</style>\n",
       "<table border=\"1\" class=\"dataframe\">\n",
       "  <thead>\n",
       "    <tr style=\"text-align: right;\">\n",
       "      <th></th>\n",
       "      <th>f0</th>\n",
       "      <th>f1</th>\n",
       "      <th>f2</th>\n",
       "      <th>product</th>\n",
       "    </tr>\n",
       "  </thead>\n",
       "  <tbody>\n",
       "    <tr>\n",
       "      <th>f0</th>\n",
       "      <td>1.000000</td>\n",
       "      <td>0.000528</td>\n",
       "      <td>-0.000448</td>\n",
       "      <td>-0.001987</td>\n",
       "    </tr>\n",
       "    <tr>\n",
       "      <th>f1</th>\n",
       "      <td>0.000528</td>\n",
       "      <td>1.000000</td>\n",
       "      <td>0.000779</td>\n",
       "      <td>-0.001012</td>\n",
       "    </tr>\n",
       "    <tr>\n",
       "      <th>f2</th>\n",
       "      <td>-0.000448</td>\n",
       "      <td>0.000779</td>\n",
       "      <td>1.000000</td>\n",
       "      <td>0.445871</td>\n",
       "    </tr>\n",
       "    <tr>\n",
       "      <th>product</th>\n",
       "      <td>-0.001987</td>\n",
       "      <td>-0.001012</td>\n",
       "      <td>0.445871</td>\n",
       "      <td>1.000000</td>\n",
       "    </tr>\n",
       "  </tbody>\n",
       "</table>\n",
       "</div>"
      ],
      "text/plain": [
       "               f0        f1        f2   product\n",
       "f0       1.000000  0.000528 -0.000448 -0.001987\n",
       "f1       0.000528  1.000000  0.000779 -0.001012\n",
       "f2      -0.000448  0.000779  1.000000  0.445871\n",
       "product -0.001987 -0.001012  0.445871  1.000000"
      ]
     },
     "execution_count": 28,
     "metadata": {},
     "output_type": "execute_result"
    }
   ],
   "source": [
    "df3.corr()"
   ]
  },
  {
   "cell_type": "code",
   "execution_count": 14,
   "metadata": {},
   "outputs": [],
   "source": [
    "def plt_corr(df, name):\n",
    "    df.plot(kind='hexbin', x='f2', y='product', gridsize=40, title=name, sharex=False, figsize=(10, 8))\n",
    "    plt.show()"
   ]
  },
  {
   "cell_type": "code",
   "execution_count": 25,
   "metadata": {},
   "outputs": [
    {
     "data": {
      "image/png": "[encoded data removed]",
      "text/plain": [
       "<Figure size 720x576 with 2 Axes>"
      ]
     },
     "metadata": {
      "needs_background": "light"
     },
     "output_type": "display_data"
    },
    {
     "data": {
      "image/png": "[encoded data removed]",
      "text/plain": [
       "<Figure size 720x576 with 2 Axes>"
      ]
     },
     "metadata": {
      "needs_background": "light"
     },
     "output_type": "display_data"
    },
    {
     "data": {
      "image/png": "[encoded data removed]",
      "text/plain": [
       "<Figure size 720x576 with 2 Axes>"
      ]
     },
     "metadata": {
      "needs_background": "light"
     },
     "output_type": "display_data"
    }
   ],
   "source": [
    "plt_corr(df1, 'Region 1')\n",
    "plt_corr(df2, 'Region 2')\n",
    "plt_corr(df3, 'Region 3')"
   ]
  },
  {
   "cell_type": "code",
   "execution_count": 29,
   "metadata": {},
   "outputs": [],
   "source": [
    "df1 = df1.drop(['id'], axis=1)\n",
    "df2 = df2.drop(['id'], axis=1)\n",
    "df3 = df3.drop(['id'], axis=1)"
   ]
  },
  {
   "cell_type": "code",
   "execution_count": 30,
   "metadata": {},
   "outputs": [
    {
     "data": {
      "text/html": [
       "<div>\n",
       "<style scoped>\n",
       "    .dataframe tbody tr th:only-of-type {\n",
       "        vertical-align: middle;\n",
       "    }\n",
       "\n",
       "    .dataframe tbody tr th {\n",
       "        vertical-align: top;\n",
       "    }\n",
       "\n",
       "    .dataframe thead th {\n",
       "        text-align: right;\n",
       "    }\n",
       "</style>\n",
       "<table border=\"1\" class=\"dataframe\">\n",
       "  <thead>\n",
       "    <tr style=\"text-align: right;\">\n",
       "      <th></th>\n",
       "      <th>f0</th>\n",
       "      <th>f1</th>\n",
       "      <th>f2</th>\n",
       "      <th>product</th>\n",
       "    </tr>\n",
       "  </thead>\n",
       "  <tbody>\n",
       "    <tr>\n",
       "      <th>0</th>\n",
       "      <td>0.705745</td>\n",
       "      <td>-0.497823</td>\n",
       "      <td>1.221170</td>\n",
       "      <td>105.280062</td>\n",
       "    </tr>\n",
       "    <tr>\n",
       "      <th>1</th>\n",
       "      <td>1.334711</td>\n",
       "      <td>-0.340164</td>\n",
       "      <td>4.365080</td>\n",
       "      <td>73.037750</td>\n",
       "    </tr>\n",
       "    <tr>\n",
       "      <th>2</th>\n",
       "      <td>1.022732</td>\n",
       "      <td>0.151990</td>\n",
       "      <td>1.419926</td>\n",
       "      <td>85.265647</td>\n",
       "    </tr>\n",
       "    <tr>\n",
       "      <th>3</th>\n",
       "      <td>-0.032172</td>\n",
       "      <td>0.139033</td>\n",
       "      <td>2.978566</td>\n",
       "      <td>168.620776</td>\n",
       "    </tr>\n",
       "    <tr>\n",
       "      <th>4</th>\n",
       "      <td>1.988431</td>\n",
       "      <td>0.155413</td>\n",
       "      <td>4.751769</td>\n",
       "      <td>154.036647</td>\n",
       "    </tr>\n",
       "  </tbody>\n",
       "</table>\n",
       "</div>"
      ],
      "text/plain": [
       "         f0        f1        f2     product\n",
       "0  0.705745 -0.497823  1.221170  105.280062\n",
       "1  1.334711 -0.340164  4.365080   73.037750\n",
       "2  1.022732  0.151990  1.419926   85.265647\n",
       "3 -0.032172  0.139033  2.978566  168.620776\n",
       "4  1.988431  0.155413  4.751769  154.036647"
      ]
     },
     "execution_count": 30,
     "metadata": {},
     "output_type": "execute_result"
    }
   ],
   "source": [
    "df1.head()"
   ]
  },
  {
   "cell_type": "code",
   "execution_count": 31,
   "metadata": {},
   "outputs": [
    {
     "data": {
      "text/html": [
       "<div>\n",
       "<style scoped>\n",
       "    .dataframe tbody tr th:only-of-type {\n",
       "        vertical-align: middle;\n",
       "    }\n",
       "\n",
       "    .dataframe tbody tr th {\n",
       "        vertical-align: top;\n",
       "    }\n",
       "\n",
       "    .dataframe thead th {\n",
       "        text-align: right;\n",
       "    }\n",
       "</style>\n",
       "<table border=\"1\" class=\"dataframe\">\n",
       "  <thead>\n",
       "    <tr style=\"text-align: right;\">\n",
       "      <th></th>\n",
       "      <th>f0</th>\n",
       "      <th>f1</th>\n",
       "      <th>f2</th>\n",
       "      <th>product</th>\n",
       "    </tr>\n",
       "  </thead>\n",
       "  <tbody>\n",
       "    <tr>\n",
       "      <th>0</th>\n",
       "      <td>-15.001348</td>\n",
       "      <td>-8.276000</td>\n",
       "      <td>-0.005876</td>\n",
       "      <td>3.179103</td>\n",
       "    </tr>\n",
       "    <tr>\n",
       "      <th>1</th>\n",
       "      <td>14.272088</td>\n",
       "      <td>-3.475083</td>\n",
       "      <td>0.999183</td>\n",
       "      <td>26.953261</td>\n",
       "    </tr>\n",
       "    <tr>\n",
       "      <th>2</th>\n",
       "      <td>6.263187</td>\n",
       "      <td>-5.948386</td>\n",
       "      <td>5.001160</td>\n",
       "      <td>134.766305</td>\n",
       "    </tr>\n",
       "    <tr>\n",
       "      <th>3</th>\n",
       "      <td>-13.081196</td>\n",
       "      <td>-11.506057</td>\n",
       "      <td>4.999415</td>\n",
       "      <td>137.945408</td>\n",
       "    </tr>\n",
       "    <tr>\n",
       "      <th>4</th>\n",
       "      <td>12.702195</td>\n",
       "      <td>-8.147433</td>\n",
       "      <td>5.004363</td>\n",
       "      <td>134.766305</td>\n",
       "    </tr>\n",
       "  </tbody>\n",
       "</table>\n",
       "</div>"
      ],
      "text/plain": [
       "          f0         f1        f2     product\n",
       "0 -15.001348  -8.276000 -0.005876    3.179103\n",
       "1  14.272088  -3.475083  0.999183   26.953261\n",
       "2   6.263187  -5.948386  5.001160  134.766305\n",
       "3 -13.081196 -11.506057  4.999415  137.945408\n",
       "4  12.702195  -8.147433  5.004363  134.766305"
      ]
     },
     "execution_count": 31,
     "metadata": {},
     "output_type": "execute_result"
    }
   ],
   "source": [
    "df2.head()"
   ]
  },
  {
   "cell_type": "code",
   "execution_count": 32,
   "metadata": {},
   "outputs": [
    {
     "data": {
      "text/html": [
       "<div>\n",
       "<style scoped>\n",
       "    .dataframe tbody tr th:only-of-type {\n",
       "        vertical-align: middle;\n",
       "    }\n",
       "\n",
       "    .dataframe tbody tr th {\n",
       "        vertical-align: top;\n",
       "    }\n",
       "\n",
       "    .dataframe thead th {\n",
       "        text-align: right;\n",
       "    }\n",
       "</style>\n",
       "<table border=\"1\" class=\"dataframe\">\n",
       "  <thead>\n",
       "    <tr style=\"text-align: right;\">\n",
       "      <th></th>\n",
       "      <th>f0</th>\n",
       "      <th>f1</th>\n",
       "      <th>f2</th>\n",
       "      <th>product</th>\n",
       "    </tr>\n",
       "  </thead>\n",
       "  <tbody>\n",
       "    <tr>\n",
       "      <th>0</th>\n",
       "      <td>-1.146987</td>\n",
       "      <td>0.963328</td>\n",
       "      <td>-0.828965</td>\n",
       "      <td>27.758673</td>\n",
       "    </tr>\n",
       "    <tr>\n",
       "      <th>1</th>\n",
       "      <td>0.262778</td>\n",
       "      <td>0.269839</td>\n",
       "      <td>-2.530187</td>\n",
       "      <td>56.069697</td>\n",
       "    </tr>\n",
       "    <tr>\n",
       "      <th>2</th>\n",
       "      <td>0.194587</td>\n",
       "      <td>0.289035</td>\n",
       "      <td>-5.586433</td>\n",
       "      <td>62.871910</td>\n",
       "    </tr>\n",
       "    <tr>\n",
       "      <th>3</th>\n",
       "      <td>2.236060</td>\n",
       "      <td>-0.553760</td>\n",
       "      <td>0.930038</td>\n",
       "      <td>114.572842</td>\n",
       "    </tr>\n",
       "    <tr>\n",
       "      <th>4</th>\n",
       "      <td>-0.515993</td>\n",
       "      <td>1.716266</td>\n",
       "      <td>5.899011</td>\n",
       "      <td>149.600746</td>\n",
       "    </tr>\n",
       "  </tbody>\n",
       "</table>\n",
       "</div>"
      ],
      "text/plain": [
       "         f0        f1        f2     product\n",
       "0 -1.146987  0.963328 -0.828965   27.758673\n",
       "1  0.262778  0.269839 -2.530187   56.069697\n",
       "2  0.194587  0.289035 -5.586433   62.871910\n",
       "3  2.236060 -0.553760  0.930038  114.572842\n",
       "4 -0.515993  1.716266  5.899011  149.600746"
      ]
     },
     "execution_count": 32,
     "metadata": {},
     "output_type": "execute_result"
    }
   ],
   "source": [
    "df3.head()"
   ]
  },
  {
   "cell_type": "markdown",
   "metadata": {},
   "source": [
    "### Conclusion\n",
    "\n",
    "We have 3 datasets for 3 regions. Each has 100000 rows and 5 columns. There are no missing values in datasets and all types of data are correct, so there is no need to convert any. Column \"id\" in each dataset won't be needed for any further work and may confuse our model, so i decided to drop it. Also after checking correlation we can see that there are pretty high correlation between f2 feature and product for each region."
   ]
  },
  {
   "cell_type": "markdown",
   "metadata": {},
   "source": [
    "## Train and test the model for each region:"
   ]
  },
  {
   "cell_type": "markdown",
   "metadata": {},
   "source": [
    "###  Split the data into a training set and validation set at a ratio of 75:25."
   ]
  },
  {
   "cell_type": "code",
   "execution_count": 33,
   "metadata": {},
   "outputs": [],
   "source": [
    "target1 = df1['product']\n",
    "features1 = df1.drop('product', axis=1)"
   ]
  },
  {
   "cell_type": "code",
   "execution_count": 34,
   "metadata": {},
   "outputs": [],
   "source": [
    "features_train1, features_valid1, target_train1, target_valid1 = train_test_split(features1, \n",
    "                                                                              target1,  \n",
    "                                                                              test_size=0.25, \n",
    "                                                                              random_state=123)"
   ]
  },
  {
   "cell_type": "code",
   "execution_count": 43,
   "metadata": {},
   "outputs": [
    {
     "name": "stdout",
     "output_type": "stream",
     "text": [
      "Features 1: (75000, 3) (25000, 3)\n",
      "Targets 1: (75000,) (25000,)\n"
     ]
    }
   ],
   "source": [
    "print('Features 1:', features_train1.shape, features_valid1.shape)\n",
    "print('Targets 1:', target_train1.shape, target_valid1.shape)"
   ]
  },
  {
   "cell_type": "code",
   "execution_count": 44,
   "metadata": {},
   "outputs": [],
   "source": [
    "target2 = df2['product']\n",
    "features2 = df2.drop('product', axis=1)"
   ]
  },
  {
   "cell_type": "code",
   "execution_count": 45,
   "metadata": {},
   "outputs": [],
   "source": [
    "features_train2, features_valid2, target_train2, target_valid2 = train_test_split(features2, \n",
    "                                                                              target2,  \n",
    "                                                                              test_size=0.25, \n",
    "                                                                              random_state=123)"
   ]
  },
  {
   "cell_type": "code",
   "execution_count": 46,
   "metadata": {},
   "outputs": [
    {
     "name": "stdout",
     "output_type": "stream",
     "text": [
      "Features 2: (75000, 3) (25000, 3)\n",
      "Targets 2: (75000,) (25000,)\n"
     ]
    }
   ],
   "source": [
    "print('Features 2:', features_train2.shape, features_valid2.shape)\n",
    "print('Targets 2:', target_train2.shape, target_valid2.shape)"
   ]
  },
  {
   "cell_type": "code",
   "execution_count": 47,
   "metadata": {},
   "outputs": [],
   "source": [
    "target3 = df3['product']\n",
    "features3 = df3.drop('product', axis=1)"
   ]
  },
  {
   "cell_type": "code",
   "execution_count": 48,
   "metadata": {},
   "outputs": [],
   "source": [
    "features_train3, features_valid3, target_train3, target_valid3 = train_test_split(features3, \n",
    "                                                                              target3,  \n",
    "                                                                              test_size=0.25, \n",
    "                                                                              random_state=123)"
   ]
  },
  {
   "cell_type": "code",
   "execution_count": 49,
   "metadata": {},
   "outputs": [
    {
     "name": "stdout",
     "output_type": "stream",
     "text": [
      "Features 3: (75000, 3) (25000, 3)\n",
      "Targets 3: (75000,) (25000,)\n"
     ]
    }
   ],
   "source": [
    "print('Features 3:', features_train3.shape, features_valid3.shape)\n",
    "print('Targets 3:', target_train3.shape, target_valid3.shape)"
   ]
  },
  {
   "cell_type": "markdown",
   "metadata": {},
   "source": [
    "**Splitting for every region was done**"
   ]
  },
  {
   "cell_type": "markdown",
   "metadata": {},
   "source": [
    "### Train the model and make predictions for the validation set."
   ]
  },
  {
   "cell_type": "code",
   "execution_count": 50,
   "metadata": {},
   "outputs": [],
   "source": [
    "def model_learn(region, df_features_train, df_features_valid, df_target_train, df_target_valid):\n",
    "    \n",
    "    global rmse, predictions_mean, predictions_reg\n",
    "    \n",
    "    model = LinearRegression().fit(df_features_train, df_target_train)\n",
    "    predictions = model.predict(df_features_valid)\n",
    "    predictions_mean = predictions.mean().round(2)\n",
    "    rmse = ((mean_squared_error(df_target_valid, predictions)) ** 0.5).round(2)\n",
    "    score = (r2_score(df_target_valid, predictions)).round(2)\n",
    "    \n",
    "    print(region)\n",
    "    print('-----------------------------------------')\n",
    "    print('Model predictions:')\n",
    "    print('Average stock of predicted raw materials:', predictions_mean)\n",
    "    print('RMSE:', rmse)\n",
    "    print('R2-score:', score)\n",
    "    \n",
    "    predicted_valid = pd.Series(df_target_train.mean(), index=df_target_valid)\n",
    "    mean_true = df_target_train.mean().round(2)\n",
    "    rmse_true = ((mean_squared_error(df_target_valid, predicted_valid)) ** 0.5).round(2)\n",
    "    \n",
    "    print('-----------------------------------------')\n",
    "    print('Mean:')\n",
    "    print('Average stock:', mean_true)\n",
    "    print('RMSE:', rmse_true)\n",
    "    \n",
    "    predictions_reg = pd.Series(predictions, index=df_target_valid.index)"
   ]
  },
  {
   "cell_type": "markdown",
   "metadata": {},
   "source": [
    "### Save the predictions and correct answers for the validation set."
   ]
  },
  {
   "cell_type": "code",
   "execution_count": 51,
   "metadata": {},
   "outputs": [
    {
     "name": "stdout",
     "output_type": "stream",
     "text": [
      "Region 1:\n",
      "-----------------------------------------\n",
      "Model predictions:\n",
      "Average stock of predicted raw materials: 92.55\n",
      "RMSE: 37.65\n",
      "R2-score: 0.28\n",
      "-----------------------------------------\n",
      "Mean:\n",
      "Average stock: 92.38\n",
      "RMSE: 44.41\n"
     ]
    }
   ],
   "source": [
    "model_learn(\n",
    "    'Region 1:', features_train1, features_valid1,\n",
    "    target_train1, target_valid1)\n",
    "rmse_reg1, predictions_reg1, predictions_mean_reg1 = rmse, predictions_reg, predictions_mean"
   ]
  },
  {
   "cell_type": "code",
   "execution_count": 52,
   "metadata": {},
   "outputs": [
    {
     "name": "stdout",
     "output_type": "stream",
     "text": [
      "Region 2:\n",
      "-----------------------------------------\n",
      "Model predictions:\n",
      "Average stock of predicted raw materials: 69.28\n",
      "RMSE: 0.9\n",
      "R2-score: 1.0\n",
      "-----------------------------------------\n",
      "Mean:\n",
      "Average stock: 68.68\n",
      "RMSE: 45.82\n"
     ]
    }
   ],
   "source": [
    "model_learn(\n",
    "    'Region 2:', features_train2, features_valid2,\n",
    "    target_train2, target_valid2)\n",
    "rmse_reg2, predictions_reg2, predictions_mean_reg2 = rmse, predictions_reg, predictions_mean"
   ]
  },
  {
   "cell_type": "code",
   "execution_count": 53,
   "metadata": {},
   "outputs": [
    {
     "name": "stdout",
     "output_type": "stream",
     "text": [
      "Region 3:\n",
      "-----------------------------------------\n",
      "Model predictions:\n",
      "Average stock of predicted raw materials: 95.1\n",
      "RMSE: 40.13\n",
      "R2-score: 0.19\n",
      "-----------------------------------------\n",
      "Mean:\n",
      "Average stock: 95.04\n",
      "RMSE: 44.67\n"
     ]
    }
   ],
   "source": [
    "model_learn(\n",
    "    'Region 3:', features_train3, features_valid3,\n",
    "    target_train3, target_valid3)\n",
    "rmse_reg3, predictions_reg3, predictions_mean_reg3 = rmse, predictions_reg, predictions_mean"
   ]
  },
  {
   "cell_type": "markdown",
   "metadata": {},
   "source": [
    "###  Print the average volume of predicted reserves and model RMSE."
   ]
  },
  {
   "cell_type": "code",
   "execution_count": 56,
   "metadata": {},
   "outputs": [
    {
     "data": {
      "text/html": [
       "<style  type=\"text/css\" >\n",
       "#T_0cd26_row2_col0,#T_0cd26_row2_col1{\n",
       "            background-color:  lightgreen;\n",
       "        }</style><table id=\"T_0cd26_\" ><thead>    <tr>        <th class=\"blank level0\" ></th>        <th class=\"col_heading level0 col0\" >predictions_mean</th>        <th class=\"col_heading level0 col1\" >rmse_score</th>    </tr></thead><tbody>\n",
       "                <tr>\n",
       "                        <th id=\"T_0cd26_level0_row0\" class=\"row_heading level0 row0\" >region 1</th>\n",
       "                        <td id=\"T_0cd26_row0_col0\" class=\"data row0 col0\" >92.550000</td>\n",
       "                        <td id=\"T_0cd26_row0_col1\" class=\"data row0 col1\" >37.650000</td>\n",
       "            </tr>\n",
       "            <tr>\n",
       "                        <th id=\"T_0cd26_level0_row1\" class=\"row_heading level0 row1\" >region 2</th>\n",
       "                        <td id=\"T_0cd26_row1_col0\" class=\"data row1 col0\" >69.280000</td>\n",
       "                        <td id=\"T_0cd26_row1_col1\" class=\"data row1 col1\" >0.900000</td>\n",
       "            </tr>\n",
       "            <tr>\n",
       "                        <th id=\"T_0cd26_level0_row2\" class=\"row_heading level0 row2\" >region 3</th>\n",
       "                        <td id=\"T_0cd26_row2_col0\" class=\"data row2 col0\" >95.100000</td>\n",
       "                        <td id=\"T_0cd26_row2_col1\" class=\"data row2 col1\" >40.130000</td>\n",
       "            </tr>\n",
       "    </tbody></table>"
      ],
      "text/plain": [
       "<pandas.io.formats.style.Styler at 0x7f20829c1850>"
      ]
     },
     "execution_count": 56,
     "metadata": {},
     "output_type": "execute_result"
    }
   ],
   "source": [
    "result = {\n",
    "    'predictions_mean': [predictions_mean_reg1, predictions_mean_reg2, predictions_mean_reg3],\n",
    "    'rmse_score': [rmse_reg1, rmse_reg2, rmse_reg3]\n",
    "}\n",
    "results = pd.DataFrame(data=result, index=('region 1', 'region 2', 'region 3')).style.highlight_max(color = 'lightgreen', axis = 0) \n",
    "results"
   ]
  },
  {
   "cell_type": "markdown",
   "metadata": {},
   "source": [
    "### Conclusion:\n",
    "\n",
    "We see that the model for the region 2 better predicts, the RMSE for it 0.90 but this region has the lowest stock of oil. While the biggest on in the 3 region.  "
   ]
  },
  {
   "cell_type": "markdown",
   "metadata": {},
   "source": [
    "## Prepare for profit calculation:"
   ]
  },
  {
   "cell_type": "markdown",
   "metadata": {},
   "source": [
    "### Store all key values for calculations in separate variables."
   ]
  },
  {
   "cell_type": "code",
   "execution_count": 57,
   "metadata": {},
   "outputs": [],
   "source": [
    "budget =  100e6\n",
    "unit_revenue = 45e2"
   ]
  },
  {
   "cell_type": "markdown",
   "metadata": {},
   "source": [
    "### Calculate the volume of reserves sufficient for developing a new well without losses. Compare the obtained value with the average volume of reserves in each region."
   ]
  },
  {
   "cell_type": "code",
   "execution_count": 58,
   "metadata": {},
   "outputs": [
    {
     "name": "stdout",
     "output_type": "stream",
     "text": [
      "Volume of reserves for developing new well without losses: 111.11111111111111\n",
      "Average reserves in region 1: 92.50000000000001\n",
      "Average reserves in region 2: 68.82500000000002\n",
      "Average reserves in region 3: 95.00000000000004\n"
     ]
    }
   ],
   "source": [
    "print('Volume of reserves for developing new well without losses:', budget / unit_revenue / 200)\n",
    "print('Average reserves in region 1:', df1['product'].mean())\n",
    "print('Average reserves in region 2:', df2['product'].mean())\n",
    "print('Average reserves in region 3:', df3['product'].mean())"
   ]
  },
  {
   "cell_type": "markdown",
   "metadata": {},
   "source": [
    "### Conclusion.\n",
    "As we see the reserves for non losses developing is 111.11. None of our regions doesn't have such volume in average. The most close region according to volume is 3 region. So let's see how our model will help us to find the new well for non losses developing."
   ]
  },
  {
   "cell_type": "markdown",
   "metadata": {},
   "source": [
    "## Write a function to calculate profit from a set of selected oil wells and model predictions:"
   ]
  },
  {
   "cell_type": "code",
   "execution_count": 59,
   "metadata": {},
   "outputs": [],
   "source": [
    "def profit(predict, target):\n",
    "    predictions_best_200 = predict.sort_values(ascending=False)\n",
    "    target_best_200 = target[predictions_best_200.index][:200]\n",
    "    rev = sum(target_best_200) * unit_revenue - budget\n",
    "    return rev"
   ]
  },
  {
   "cell_type": "markdown",
   "metadata": {},
   "source": [
    "## Calculate risks and profit for each region:"
   ]
  },
  {
   "cell_type": "code",
   "execution_count": 61,
   "metadata": {},
   "outputs": [],
   "source": [
    "def bootstrap(prediction, target):\n",
    "    \n",
    "    state = np.random.RandomState(555)\n",
    "    results = []\n",
    "    global final_reg\n",
    "    \n",
    "    for i in range(1000):\n",
    "        target_subsample = target.sample(n=500, replace=True, random_state=state)\n",
    "        prediction_subsample = prediction[target_subsample.index]\n",
    "        results.append(profit(prediction_subsample, target_subsample))\n",
    "    \n",
    "    results = pd.Series(results)    \n",
    "    results_mean = (results.mean() / 1e6).round(2)\n",
    "\n",
    "    lower = (results.quantile(.025) / 1e6).round(2)\n",
    "    upper = (results.quantile(.975) / 1e6).round(2)\n",
    "    \n",
    "    risk = (results < 0).mean() * 100\n",
    "    \n",
    "    final_reg = {\n",
    "        'mean in mln.': results_mean,\n",
    "        'lower in mln.': lower,\n",
    "        'upper in mln.': upper,\n",
    "        'risk': '{0:.1f}%'.format(risk)\n",
    "    }"
   ]
  },
  {
   "cell_type": "code",
   "execution_count": 63,
   "metadata": {},
   "outputs": [],
   "source": [
    "bootstrap(predictions_reg1, target_valid1)\n",
    "final_reg1 = final_reg"
   ]
  },
  {
   "cell_type": "code",
   "execution_count": 64,
   "metadata": {},
   "outputs": [],
   "source": [
    "bootstrap(predictions_reg2, target_valid2)\n",
    "final_reg2 = final_reg"
   ]
  },
  {
   "cell_type": "code",
   "execution_count": 65,
   "metadata": {},
   "outputs": [],
   "source": [
    "bootstrap(predictions_reg3, target_valid3)\n",
    "final_reg3 = final_reg"
   ]
  },
  {
   "cell_type": "code",
   "execution_count": 66,
   "metadata": {},
   "outputs": [
    {
     "data": {
      "text/html": [
       "<style  type=\"text/css\" >\n",
       "#T_7d065_row0_col2,#T_7d065_row1_col0,#T_7d065_row1_col1{\n",
       "            background-color:  lightgreen;\n",
       "        }</style><table id=\"T_7d065_\" ><thead>    <tr>        <th class=\"blank level0\" ></th>        <th class=\"col_heading level0 col0\" >mean in mln.</th>        <th class=\"col_heading level0 col1\" >lower in mln.</th>        <th class=\"col_heading level0 col2\" >upper in mln.</th>        <th class=\"col_heading level0 col3\" >risk</th>    </tr></thead><tbody>\n",
       "                <tr>\n",
       "                        <th id=\"T_7d065_level0_row0\" class=\"row_heading level0 row0\" >region 1</th>\n",
       "                        <td id=\"T_7d065_row0_col0\" class=\"data row0 col0\" >5.020000</td>\n",
       "                        <td id=\"T_7d065_row0_col1\" class=\"data row0 col1\" >-0.450000</td>\n",
       "                        <td id=\"T_7d065_row0_col2\" class=\"data row0 col2\" >10.200000</td>\n",
       "                        <td id=\"T_7d065_row0_col3\" class=\"data row0 col3\" >3.7%</td>\n",
       "            </tr>\n",
       "            <tr>\n",
       "                        <th id=\"T_7d065_level0_row1\" class=\"row_heading level0 row1\" >region 2</th>\n",
       "                        <td id=\"T_7d065_row1_col0\" class=\"data row1 col0\" >5.350000</td>\n",
       "                        <td id=\"T_7d065_row1_col1\" class=\"data row1 col1\" >1.310000</td>\n",
       "                        <td id=\"T_7d065_row1_col2\" class=\"data row1 col2\" >9.840000</td>\n",
       "                        <td id=\"T_7d065_row1_col3\" class=\"data row1 col3\" >0.7%</td>\n",
       "            </tr>\n",
       "            <tr>\n",
       "                        <th id=\"T_7d065_level0_row2\" class=\"row_heading level0 row2\" >region 3</th>\n",
       "                        <td id=\"T_7d065_row2_col0\" class=\"data row2 col0\" >3.740000</td>\n",
       "                        <td id=\"T_7d065_row2_col1\" class=\"data row2 col1\" >-1.910000</td>\n",
       "                        <td id=\"T_7d065_row2_col2\" class=\"data row2 col2\" >9.330000</td>\n",
       "                        <td id=\"T_7d065_row2_col3\" class=\"data row2 col3\" >9.6%</td>\n",
       "            </tr>\n",
       "    </tbody></table>"
      ],
      "text/plain": [
       "<pandas.io.formats.style.Styler at 0x7f20829c1c70>"
      ]
     },
     "execution_count": 66,
     "metadata": {},
     "output_type": "execute_result"
    }
   ],
   "source": [
    "results_final = final_reg1, final_reg2, final_reg3\n",
    "results = pd.DataFrame(data=results_final, index=('region 1', 'region 2', 'region 3')).style.highlight_max(color = 'lightgreen', axis = 0) \n",
    "results"
   ]
  },
  {
   "cell_type": "markdown",
   "metadata": {},
   "source": [
    "# Conclusion.\n",
    "We have 3 datasets for 3 regions. Each has 100000 rows and 5 columns. There are no missing values in datasets and all types of data are correct, so there is no need to convert any. Column \"id\" in each dataset won't be needed for any further work and may confuse our model, so i decided to drop it. Also after checking correlation we can see that there are pretty high correlation between f2 feature and product for each region. We see that the model for the region 2 better predicts, the RMSE for it 0.90 but this region has the lowest stock of oil. While the biggest on in the 3 region. \n",
    "As we see the reserves for non losses developing is 111.11. None of our regions doesn't have such volume in average. The most close region according to volume is 3 region. So let's see how our model will help us to find the new well for non losses developing.\n",
    "After all calculations of profits according to predictions of our model we can see that the best region for developing new well is the second region. Model works very well and predicts almost perfect, it has the lowest risk of 0.7%, the highest average revenue - 5.35 mln USD and her lowest wells won't be losses ones.\n"
   ]
  }
 ],
 "metadata": {
  "ExecuteTimeLog": [
   {
    "duration": 1505,
    "start_time": "2022-04-08T09:30:15.837Z"
   },
   {
    "duration": 226,
    "start_time": "2022-04-08T09:49:32.613Z"
   },
   {
    "duration": 132,
    "start_time": "2022-04-08T09:49:50.873Z"
   },
   {
    "duration": 17,
    "start_time": "2022-04-08T09:50:25.415Z"
   },
   {
    "duration": 121,
    "start_time": "2022-04-08T09:51:18.295Z"
   },
   {
    "duration": 14,
    "start_time": "2022-04-08T09:51:31.911Z"
   },
   {
    "duration": 129,
    "start_time": "2022-04-08T09:51:57.798Z"
   },
   {
    "duration": 14,
    "start_time": "2022-04-08T09:52:08.800Z"
   },
   {
    "duration": 12,
    "start_time": "2022-04-08T09:55:00.603Z"
   },
   {
    "duration": 35,
    "start_time": "2022-04-08T09:55:13.650Z"
   },
   {
    "duration": 36,
    "start_time": "2022-04-08T09:55:28.708Z"
   },
   {
    "duration": 33,
    "start_time": "2022-04-08T09:55:43.338Z"
   },
   {
    "duration": 9,
    "start_time": "2022-04-08T09:56:43.548Z"
   },
   {
    "duration": 3,
    "start_time": "2022-04-08T09:56:49.734Z"
   },
   {
    "duration": 522,
    "start_time": "2022-04-08T09:56:50.715Z"
   },
   {
    "duration": 126,
    "start_time": "2022-04-08T09:57:16.446Z"
   },
   {
    "duration": 16,
    "start_time": "2022-04-08T09:57:24.968Z"
   },
   {
    "duration": 120,
    "start_time": "2022-04-08T09:57:35.173Z"
   },
   {
    "duration": 13,
    "start_time": "2022-04-08T09:57:43.509Z"
   },
   {
    "duration": 124,
    "start_time": "2022-04-08T09:57:51.832Z"
   },
   {
    "duration": 14,
    "start_time": "2022-04-08T09:58:00.458Z"
   },
   {
    "duration": 33,
    "start_time": "2022-04-08T09:58:04.038Z"
   },
   {
    "duration": 32,
    "start_time": "2022-04-08T09:58:09.316Z"
   },
   {
    "duration": 31,
    "start_time": "2022-04-08T09:58:19.884Z"
   },
   {
    "duration": 726,
    "start_time": "2022-04-08T09:58:30.352Z"
   },
   {
    "duration": 16,
    "start_time": "2022-04-08T10:02:35.346Z"
   },
   {
    "duration": 20,
    "start_time": "2022-04-08T10:02:52.331Z"
   },
   {
    "duration": 14,
    "start_time": "2022-04-08T10:03:06.326Z"
   },
   {
    "duration": 11,
    "start_time": "2022-04-08T10:05:05.680Z"
   },
   {
    "duration": 8,
    "start_time": "2022-04-08T10:05:15.776Z"
   },
   {
    "duration": 9,
    "start_time": "2022-04-08T10:05:24.730Z"
   },
   {
    "duration": 9,
    "start_time": "2022-04-08T10:05:40.014Z"
   },
   {
    "duration": 5,
    "start_time": "2022-04-08T10:09:50.103Z"
   },
   {
    "duration": 12,
    "start_time": "2022-04-08T10:11:00.507Z"
   },
   {
    "duration": 8,
    "start_time": "2022-04-08T10:11:49.909Z"
   },
   {
    "duration": 4,
    "start_time": "2022-04-08T10:12:44.090Z"
   },
   {
    "duration": 5,
    "start_time": "2022-04-08T10:13:15.719Z"
   },
   {
    "duration": 12,
    "start_time": "2022-04-08T10:13:41.590Z"
   },
   {
    "duration": 4,
    "start_time": "2022-04-08T10:14:04.833Z"
   },
   {
    "duration": 7,
    "start_time": "2022-04-08T10:14:34.019Z"
   },
   {
    "duration": 12,
    "start_time": "2022-04-08T10:14:57.230Z"
   },
   {
    "duration": 84,
    "start_time": "2022-04-08T10:15:22.656Z"
   },
   {
    "duration": 4,
    "start_time": "2022-04-08T10:16:05.160Z"
   },
   {
    "duration": 4,
    "start_time": "2022-04-08T10:16:07.240Z"
   },
   {
    "duration": 11,
    "start_time": "2022-04-08T10:16:07.774Z"
   },
   {
    "duration": 5,
    "start_time": "2022-04-08T10:16:08.280Z"
   },
   {
    "duration": 4,
    "start_time": "2022-04-08T10:16:08.758Z"
   },
   {
    "duration": 12,
    "start_time": "2022-04-08T10:16:09.320Z"
   },
   {
    "duration": 4,
    "start_time": "2022-04-08T10:16:10.022Z"
   },
   {
    "duration": 5,
    "start_time": "2022-04-08T10:21:09.056Z"
   },
   {
    "duration": 104,
    "start_time": "2022-04-08T10:22:38.533Z"
   },
   {
    "duration": 19,
    "start_time": "2022-04-08T10:23:23.738Z"
   },
   {
    "duration": 18,
    "start_time": "2022-04-08T10:24:04.926Z"
   },
   {
    "duration": 8,
    "start_time": "2022-04-08T10:25:13.221Z"
   },
   {
    "duration": 106,
    "start_time": "2022-04-08T10:26:05.431Z"
   },
   {
    "duration": 46,
    "start_time": "2022-04-08T10:26:31.751Z"
   },
   {
    "duration": 3,
    "start_time": "2022-04-08T10:47:37.902Z"
   },
   {
    "duration": 8,
    "start_time": "2022-04-08T10:50:21.459Z"
   },
   {
    "duration": 3,
    "start_time": "2022-04-08T10:59:50.556Z"
   },
   {
    "duration": 10,
    "start_time": "2022-04-08T11:00:11.676Z"
   },
   {
    "duration": 7,
    "start_time": "2022-04-08T11:03:37.505Z"
   },
   {
    "duration": 9,
    "start_time": "2022-04-08T11:04:05.809Z"
   },
   {
    "duration": 1136,
    "start_time": "2022-04-08T11:04:43.254Z"
   },
   {
    "duration": 1118,
    "start_time": "2022-04-08T11:05:15.836Z"
   },
   {
    "duration": 1118,
    "start_time": "2022-04-08T11:05:30.050Z"
   },
   {
    "duration": 14,
    "start_time": "2022-04-08T11:06:32.044Z"
   }
  ],
  "kernelspec": {
   "display_name": "Python 3 (ipykernel)",
   "language": "python",
   "name": "python3"
  },
  "language_info": {
   "codemirror_mode": {
    "name": "ipython",
    "version": 3
   },
   "file_extension": ".py",
   "mimetype": "text/x-python",
   "name": "python",
   "nbconvert_exporter": "python",
   "pygments_lexer": "ipython3",
   "version": "3.9.7"
  },
  "toc": {
   "base_numbering": 1,
   "nav_menu": {},
   "number_sections": true,
   "sideBar": true,
   "skip_h1_title": true,
   "title_cell": "Table of Contents",
   "title_sidebar": "Contents",
   "toc_cell": false,
   "toc_position": {},
   "toc_section_display": true,
   "toc_window_display": false
  }
 },
 "nbformat": 4,
 "nbformat_minor": 2
}
